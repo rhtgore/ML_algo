{
 "cells": [
  {
   "cell_type": "code",
   "execution_count": 1,
   "metadata": {
    "collapsed": true
   },
   "outputs": [],
   "source": [
    "import numpy as np\n",
    "import matplotlib.pyplot as plt"
   ]
  },
  {
   "cell_type": "markdown",
   "metadata": {},
   "source": [
    "x = input\n",
    "\n",
    "m = coefficient\n",
    "\n",
    "c = intercept\n",
    "\n",
    "y = actual output\n",
    "\n",
    "ypred = m * x + c\n",
    "\n",
    "Cost Function = MSE = Mean Squared Error\n",
    "\n",
    "MSE = sum((y-ypred)^2) / n\n",
    "\n",
    "md = d MSE / d m = (-2/n) * sum(x * (y - ypred))\n",
    "\n",
    "cd = d MSE / d c = (-2/n) * sum((y - ypred))\n",
    "\n",
    "m_nw = m_prev - learning_rate * (d MSE / dm) = m_prev - learning_rate * md\n",
    "\n",
    "c_nw = c_prev - learning_rate * (d MSE / dc) = c_prev - learning_rate * cd\n"
   ]
  },
  {
   "cell_type": "code",
   "execution_count": 20,
   "metadata": {},
   "outputs": [],
   "source": [
    "def Gradient_Descent(x, y, iters):\n",
    "    m = 0\n",
    "    c = 0\n",
    "    learning_rate = 0.01\n",
    "    n = len(x)\n",
    "    \n",
    "    for i in range(iters):\n",
    "        ypred = m * x + c\n",
    "        md = (-2/n) * sum(x * (y - ypred))\n",
    "        cd = (-2/n) * sum((y - ypred))\n",
    "        m = m - learning_rate * md\n",
    "        c = c - learning_rate * cd\n",
    "    return m, c    "
   ]
  },
  {
   "cell_type": "code",
   "execution_count": 21,
   "metadata": {
    "collapsed": true
   },
   "outputs": [],
   "source": [
    "x = np.array([3, 4, 5, 2, 6, 7])\n",
    "y = np.array([19, 22, 25, 16, 28, 31]) # y = 3*x + 10"
   ]
  },
  {
   "cell_type": "code",
   "execution_count": 22,
   "metadata": {},
   "outputs": [
    {
     "name": "stdout",
     "output_type": "stream",
     "text": [
      "4.388910624598495 2.8871207290940792\n"
     ]
    }
   ],
   "source": [
    "m, c = Gradient_Descent(x, y, 100)\n",
    "print(m, c)"
   ]
  },
  {
   "cell_type": "code",
   "execution_count": 23,
   "metadata": {},
   "outputs": [
    {
     "name": "stdout",
     "output_type": "stream",
     "text": [
      "3.1560614165263026 9.200779377061039\n"
     ]
    }
   ],
   "source": [
    "m, c = Gradient_Descent(x, y, 1000)\n",
    "print(m, c)"
   ]
  },
  {
   "cell_type": "code",
   "execution_count": 24,
   "metadata": {},
   "outputs": [
    {
     "name": "stdout",
     "output_type": "stream",
     "text": [
      "3.0000000000500644 9.999999999743611\n"
     ]
    }
   ],
   "source": [
    "m, c = Gradient_Descent(x, y, 10000)\n",
    "print(m, c)"
   ]
  },
  {
   "cell_type": "code",
   "execution_count": 35,
   "metadata": {
    "collapsed": true
   },
   "outputs": [],
   "source": [
    "%matplotlib inline\n",
    "def Gradient_Descent_plt(x, y, iters):\n",
    "    m = 0\n",
    "    c = 0\n",
    "    learning_rate = 0.01\n",
    "    n = len(x)\n",
    "    plt.plot(x,y,'yo')\n",
    "    for i in range(iters):\n",
    "        ypred = m * x + c\n",
    "        plt.plot(x, ypred, '--r')\n",
    "        md = (-2/n) * sum(x * (y - ypred))\n",
    "        cd = (-2/n) * sum((y - ypred))\n",
    "        m = m - learning_rate * md\n",
    "        c = c - learning_rate * cd   "
   ]
  },
  {
   "cell_type": "code",
   "execution_count": 36,
   "metadata": {},
   "outputs": [
    {
     "data": {
      "image/png": "[encoded data removed]",
      "text/plain": [
       "<matplotlib.figure.Figure at 0x1c45fd28128>"
      ]
     },
     "metadata": {},
     "output_type": "display_data"
    }
   ],
   "source": [
    "Gradient_Descent_plt(x, y, 100)\n"
   ]
  },
  {
   "cell_type": "code",
   "execution_count": null,
   "metadata": {
    "collapsed": true
   },
   "outputs": [],
   "source": []
  }
 ],
 "metadata": {
  "kernelspec": {
   "display_name": "Python 3",
   "language": "python",
   "name": "python3"
  },
  "language_info": {
   "codemirror_mode": {
    "name": "ipython",
    "version": 3
   },
   "file_extension": ".py",
   "mimetype": "text/x-python",
   "name": "python",
   "nbconvert_exporter": "python",
   "pygments_lexer": "ipython3",
   "version": "3.6.3"
  }
 },
 "nbformat": 4,
 "nbformat_minor": 2
}
